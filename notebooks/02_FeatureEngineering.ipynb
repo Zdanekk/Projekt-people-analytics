{
 "cells": [
  {
   "cell_type": "code",
   "execution_count": 29,
   "metadata": {},
   "outputs": [],
   "source": [
    "import pandas as pd\n",
    "from pathlib import Path\n",
    "\n",
    "# Wczytaj plik CSV\n",
    "# Pobranie pełnej ścieżki do bieżącego pliku\n",
    "current_file_path = Path(__name__).resolve()\n",
    "parent_directory_path = current_file_path.parent.parent\n",
    "\n",
    "input_file_path = parent_directory_path / \"data\" / \"02_Interim\" / \"Selected_Features.csv\"\n",
    "selected_data = pd.read_csv(input_file_path)\n",
    "\n",
    "selected_data[\"target\"] = selected_data[\"Community Participation\"].apply(lambda x: \"Tak\" if x in [\"Chcę uczestniczyć w projekcie data\", \"Chcę uczestniczyć w projekcie data i organizować 'życie' Community\"] else \"Nie\")\n",
    "\n",
    "# Filtrowanie danych\n",
    "# filtered_data = data[~data['Community Participation'].isin([\n",
    "#      'Póki co chcę czerpać, obserwować, \"konsumować content\"',\n",
    "#      'Chcę organizować \"\"życie\"\" Community'\n",
    "#  ])]\n",
    "\n",
    "output_file_path = parent_directory_path / \"data\" / \"03_Processed\" / \"Filtered_Selected_Features.csv\"\n",
    "\n",
    "selected_data.to_csv(output_file_path, index=False)\n",
    "# filtered_data.to_csv(output_file_path, index=False)\n",
    "\n",
    "\n",
    "\n",
    "# # Zapisz przefiltrowane dane do nowego pliku CSV\n",
    "# output_file_path = r'C:\\Users\\xbots\\Projekt-people-analytics\\data\\03_Processed\\Filtered_Selected_Features.csv'\n",
    "# filtered_data.to_csv(output_file_path, index=False)\n",
    "\n",
    "# # Wyświetl przefiltrowane dane\n",
    "# print(filtered_data.head())\n"
   ]
  }
 ],
 "metadata": {
  "kernelspec": {
   "display_name": "Python 3",
   "language": "python",
   "name": "python3"
  },
  "language_info": {
   "codemirror_mode": {
    "name": "ipython",
    "version": 3
   },
   "file_extension": ".py",
   "mimetype": "text/x-python",
   "name": "python",
   "nbconvert_exporter": "python",
   "pygments_lexer": "ipython3",
   "version": "3.12.3"
  }
 },
 "nbformat": 4,
 "nbformat_minor": 2
}
