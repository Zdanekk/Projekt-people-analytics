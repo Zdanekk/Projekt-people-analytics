{
 "cells": [
  {
   "cell_type": "code",
   "execution_count": 11,
   "metadata": {},
   "outputs": [],
   "source": [
    "import pandas as pd\n"
   ]
  },
  {
   "cell_type": "code",
   "execution_count": 12,
   "metadata": {},
   "outputs": [
    {
     "name": "stdout",
     "output_type": "stream",
     "text": [
      "   Participant ID                            Community Participation  \\\n",
      "0               1  Chcę uczestniczyć w projekcie data i organizow...   \n",
      "1               2                 Chcę uczestniczyć w projekcie data   \n",
      "2               3                 Chcę uczestniczyć w projekcie data   \n",
      "3               4  Chcę uczestniczyć w projekcie data i organizow...   \n",
      "4               5  Chcę uczestniczyć w projekcie data i organizow...   \n",
      "\n",
      "   Programming: R  Programming: Python  Programming: Bash  \\\n",
      "0             2.0                  3.0                3.0   \n",
      "1             3.0                  3.0                1.0   \n",
      "2             0.0                  1.0                0.0   \n",
      "3             3.0                  3.0                2.0   \n",
      "4             3.0                  3.0                2.0   \n",
      "\n",
      "   Version Control: GIT  Containers: Docker  CLI: (np. Bash, PowerShell, CMD)  \\\n",
      "0                   4.0                 3.0                               4.0   \n",
      "1                   3.0                 2.0                               2.0   \n",
      "2                   1.0                 0.0                               0.0   \n",
      "3                   2.0                 2.0                               2.0   \n",
      "4                   2.0                 2.0                               2.0   \n",
      "\n",
      "   Front End: (HTML, JavaScript, CSS)  Databases: SQL  ...  FinTech  \\\n",
      "0                                 4.0             3.0  ...      3.0   \n",
      "1                                 1.0             4.0  ...      2.0   \n",
      "2                                 0.0             3.0  ...      3.0   \n",
      "3                                 1.0             3.0  ...      3.0   \n",
      "4                                 1.0             3.0  ...      3.0   \n",
      "\n",
      "   HealthTech  FashionTech  E-commerce  SportTech  Non-profit  \\\n",
      "0         2.0          3.0         3.0        3.0         2.0   \n",
      "1         2.0          2.0         2.0        2.0         2.0   \n",
      "2         0.0          0.0         2.0        0.0         1.0   \n",
      "3         2.0          2.0         3.0        1.0         3.0   \n",
      "4         3.0          1.0         1.0        1.0         2.0   \n",
      "\n",
      "   PropTech (nieruchomości)  Cybersecurity   HR  \\\n",
      "0                       3.0            2.0  2.0   \n",
      "1                       2.0            2.0  2.0   \n",
      "2                       2.0            0.0  0.0   \n",
      "3                       1.0            2.0  1.0   \n",
      "4                       1.0            1.0  2.0   \n",
      "\n",
      "   Jeżeli pominięto branżę, na której się znasz dopisz ją:  \n",
      "0                                                NaN        \n",
      "1                                                NaN        \n",
      "2                                                NaN        \n",
      "3                                                NaN        \n",
      "4                                            LawTech        \n",
      "\n",
      "[5 rows x 39 columns]\n"
     ]
    }
   ],
   "source": [
    "# Wczytaj plik CSV\n",
    "file_path = r'C:\\Users\\xbots\\Projekt-people-analytics\\data\\02_Interim\\Selected_Features.csv'\n",
    "data = pd.read_csv(file_path)\n",
    "\n",
    "# Filtrowanie danych\n",
    "filtered_data = data[~data['Community Participation'].isin([\n",
    "    'Póki co chcę czerpać, obserwować, \"konsumować content\"',\n",
    "    'Chcę organizować \"\"życie\"\" Community\"'\n",
    "])]\n",
    "\n",
    "# Zapisz przefiltrowane dane do nowego pliku CSV\n",
    "output_file_path = r'C:\\Users\\xbots\\Projekt-people-analytics\\data\\03_Processed\\Filtered_Selected_Features.csv'\n",
    "filtered_data.to_csv(output_file_path, index=False)\n",
    "\n",
    "# Wyświetl przefiltrowane dane\n",
    "print(filtered_data.head())\n"
   ]
  }
 ],
 "metadata": {
  "kernelspec": {
   "display_name": "Python 3",
   "language": "python",
   "name": "python3"
  },
  "language_info": {
   "codemirror_mode": {
    "name": "ipython",
    "version": 3
   },
   "file_extension": ".py",
   "mimetype": "text/x-python",
   "name": "python",
   "nbconvert_exporter": "python",
   "pygments_lexer": "ipython3",
   "version": "3.12.3"
  }
 },
 "nbformat": 4,
 "nbformat_minor": 2
}
