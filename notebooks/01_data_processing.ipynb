{
 "cells": [
  {
   "cell_type": "code",
   "execution_count": 43,
   "metadata": {},
   "outputs": [
    {
     "name": "stdout",
     "output_type": "stream",
     "text": [
      "<class 'pandas.core.frame.DataFrame'>\n",
      "ID                                                                                                       int64\n",
      "Godzina rozpoczęcia                                                                                     object\n",
      "Godzina ukończenia                                                                                      object\n",
      "Adres e-mail                                                                                            object\n",
      "Nazwa                                                                                                  float64\n",
      "Czas ostatniej modyfikacji                                                                             float64\n",
      "Masz jakiś pomysł na projekt data? Napisz nam o tym. Jeżeli to nie ten moment, pozostaw puste pole.     object\n",
      "W jaki sposób chcesz uczestniczyć w Community?                                                          object\n",
      "Programming: R                                                                                         float64\n",
      "Programming: Python                                                                                    float64\n",
      "Programming: Bash                                                                                      float64\n",
      "Version Control: GIT                                                                                   float64\n",
      "Containers: Docker                                                                                     float64\n",
      "CLI: (np. Bash, PowerShell, CMD)                                                                       float64\n",
      "Front End: (HTML, JavaScript, CSS)                                                                     float64\n",
      "Databases: SQL                                                                                         float64\n",
      "Databases: NoSQL                                                                                       float64\n",
      "Cloud: Azure                                                                                           float64\n",
      "Cloud: AWS                                                                                             float64\n",
      "Cloud: GPC                                                                                             float64\n",
      "BI: PowerBI                                                                                            float64\n",
      "BI: Tableau                                                                                            float64\n",
      "Area: Time Series                                                                                      float64\n",
      "Area: Classical ML (Clustering, Regression, Classification)                                            float64\n",
      "Area: NLP                                                                                              float64\n",
      "Area: Computer Vision                                                                                  float64\n",
      "Project Management                                                                                     float64\n",
      "Promocja w Social Media                                                                                float64\n",
      "Ux/Ui                                                                                                  float64\n",
      "Projektowanie graficzne                                                                                float64\n",
      "Nawiązywanie Relacji z Biznesem                                                                        float64\n",
      "Nawiązywanie Relacji z naukowcami                                                                      float64\n",
      "Pozyskiwanie finansowania                                                                              float64\n",
      "Współpraca z administracją UEW                                                                         float64\n",
      "Jeżeli jest obszar, na którym się znasz i chcesz go wykorzystać, dopisz go:                             object\n",
      "FinTech                                                                                                float64\n",
      "HealthTech                                                                                             float64\n",
      "FashionTech                                                                                            float64\n",
      "E-commerce                                                                                             float64\n",
      "SportTech                                                                                              float64\n",
      "Non-profit                                                                                             float64\n",
      "PropTech (nieruchomości)                                                                               float64\n",
      "Cybersecurity                                                                                          float64\n",
      "HR                                                                                                     float64\n",
      "Jeżeli pominięto branżę, na której się znasz dopisz ją:                                                 object\n",
      "dtype: object\n"
     ]
    }
   ],
   "source": [
    "import pandas as pd\n",
    "\n",
    "\n",
    "NUMERICS = ['int16', 'int32', 'int64', 'float16', 'float32', 'float64']\n",
    "\n",
    "\n",
    "data_file_path = \"../data/01_Raw/01_DataCompetencySurvey.csv\"\n",
    "df = pd.read_csv(data_file_path)\n",
    "print(df.dtypes)\n",
    "new_df = df.select_dtypes(NUMERICS)"
   ]
  }
 ],
 "metadata": {
  "kernelspec": {
   "display_name": "Python 3",
   "language": "python",
   "name": "python3"
  },
  "language_info": {
   "codemirror_mode": {
    "name": "ipython",
    "version": 3
   },
   "file_extension": ".py",
   "mimetype": "text/x-python",
   "name": "python",
   "nbconvert_exporter": "python",
   "pygments_lexer": "ipython3",
   "version": "3.12.3"
  }
 },
 "nbformat": 4,
 "nbformat_minor": 2
}
